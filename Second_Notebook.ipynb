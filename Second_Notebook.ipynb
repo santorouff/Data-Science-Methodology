{
  "metadata": {
    "kernelspec": {
      "name": "python",
      "display_name": "Pyolite",
      "language": "python"
    },
    "language_info": {
      "codemirror_mode": {
        "name": "python",
        "version": 3
      },
      "file_extension": ".py",
      "mimetype": "text/x-python",
      "name": "python",
      "nbconvert_exporter": "python",
      "pygments_lexer": "ipython3",
      "version": "3.8"
    }
  },
  "nbformat_minor": 4,
  "nbformat": 4,
  "cells": [
    {
      "cell_type": "markdown",
      "source": "<center>\n    <img src=\"https://s3-api.us-geo.objectstorage.softlayer.net/cf-courses-data/CognitiveClass/Logos/organization_logo/organization_logo.png\" width=\"300\" alt=\"cognitiveclass.ai logo\"  />\n</center>\n",
      "metadata": {}
    },
    {
      "cell_type": "markdown",
      "source": "#### Add your code below following the instructions given in the course\n",
      "metadata": {}
    },
    {
      "cell_type": "markdown",
      "source": "<a href=\"https://dataplatform.cloud.ibm.com/gallery\">IBM Cloud Gallery</a>",
      "metadata": {}
    },
    {
      "cell_type": "markdown",
      "source": "| header | header |\n| ------ | ------ |\n| cell | cell |",
      "metadata": {}
    },
    {
      "cell_type": "markdown",
      "source": "Exercise 10 - Advanced Markdown styling: Create tables - Using only Markdown, try creating a table with three columns and four rows.",
      "metadata": {}
    },
    {
      "cell_type": "markdown",
      "source": "| 1st Column | 2nd Column | 3rd Column |\n| ------ | ------ | ------ |\n| 11 | 12 | 13 |\n| 21 | 22 | 23 |\n| 31 | 32 | 33 |\n| 41 | 42 | 43|",
      "metadata": {}
    },
    {
      "cell_type": "code",
      "source": "",
      "metadata": {},
      "execution_count": null,
      "outputs": []
    }
  ]
}